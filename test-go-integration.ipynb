{
 "cells": [
  {
   "cell_type": "markdown",
   "metadata": {},
   "source": [
    "# Test of Go-function"
   ]
  },
  {
   "cell_type": "code",
   "execution_count": 1,
   "metadata": {},
   "outputs": [],
   "source": [
    "from modules import fibonacci, de_mean"
   ]
  },
  {
   "cell_type": "markdown",
   "metadata": {},
   "source": [
    "Test fibonacci-functions:"
   ]
  },
  {
   "cell_type": "code",
   "execution_count": 3,
   "metadata": {},
   "outputs": [
    {
     "data": {
      "text/plain": [
       "280571172992510140037611932413038677189525"
      ]
     },
     "execution_count": 3,
     "metadata": {},
     "output_type": "execute_result"
    }
   ],
   "source": [
    "# Efficient iterative function\n",
    "fibonacci(200, recursive=False)"
   ]
  },
  {
   "cell_type": "code",
   "execution_count": 4,
   "metadata": {},
   "outputs": [
    {
     "data": {
      "text/plain": [
       "55"
      ]
     },
     "execution_count": 4,
     "metadata": {},
     "output_type": "execute_result"
    }
   ],
   "source": [
    "# Terribly inefficient recursive one\n",
    "fibonacci(10, recursive=True)"
   ]
  },
  {
   "cell_type": "markdown",
   "metadata": {},
   "source": [
    "Test de-mean-function:"
   ]
  },
  {
   "cell_type": "code",
   "execution_count": 7,
   "metadata": {},
   "outputs": [
    {
     "data": {
      "text/plain": [
       "[-1.3684210526315788,\n",
       " -0.36842105263157876,\n",
       " 0.6315789473684212,\n",
       " -0.36842105263157876,\n",
       " 0.6315789473684212,\n",
       " -0.36842105263157876,\n",
       " -0.36842105263157876,\n",
       " -0.36842105263157876,\n",
       " -0.36842105263157876,\n",
       " 0.6315789473684212,\n",
       " 0.6315789473684212,\n",
       " 0.6315789473684212,\n",
       " -0.36842105263157876,\n",
       " -0.36842105263157876,\n",
       " 0.6315789473684212,\n",
       " -1.3684210526315788,\n",
       " 0.6315789473684212,\n",
       " 0.6315789473684212,\n",
       " 0.6315789473684212]"
      ]
     },
     "execution_count": 7,
     "metadata": {},
     "output_type": "execute_result"
    }
   ],
   "source": [
    "de_mean([1,2,3,2,3,2,2,2,2,3,3,3,2,2,3,1,3,3,3])"
   ]
  }
 ],
 "metadata": {
  "kernelspec": {
   "display_name": "magnus",
   "language": "python",
   "name": "python3"
  },
  "language_info": {
   "codemirror_mode": {
    "name": "ipython",
    "version": 3
   },
   "file_extension": ".py",
   "mimetype": "text/x-python",
   "name": "python",
   "nbconvert_exporter": "python",
   "pygments_lexer": "ipython3",
   "version": "3.12.4"
  }
 },
 "nbformat": 4,
 "nbformat_minor": 2
}
